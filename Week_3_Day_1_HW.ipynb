{
 "cells": [
  {
   "cell_type": "markdown",
   "id": "ee9fc58d",
   "metadata": {},
   "source": [
    "Exercise 1 - Turn the shopping cart program into an object-oriented program\n"
   ]
  },
  {
   "cell_type": "code",
   "execution_count": null,
   "id": "771af47c",
   "metadata": {},
   "outputs": [],
   "source": [
    "def shopping_cart():\n",
    "    my_cart = {}\n",
    "    total_items = 0\n",
    "    #total cost of items in dollars\n",
    "    total_cost  = 0\n",
    "    #(my_cart={}): # Step 2 key,value\n",
    "     \n",
    "        \n",
    "    \n",
    "    while True: # Step 3\n",
    "        \n",
    "        # Step 4\n",
    "        ask = input('What would you like to do with the shopping cart? add item, remove item, show cart, checkout').lower()\n",
    "        \n",
    "         \n",
    "        # Step 5 received help from tutor\n",
    "        print(f'Ask was: {ask}')\n",
    "            \n",
    "        if ask == 'add item':\n",
    "            item = input('What item would you like to add to your shopping cart? ')\n",
    "            cost = input(f\"What is {item}'s cost in dollars? \")\n",
    "            my_cart[item] = cost\n",
    "            print(my_cart)\n",
    "     \n",
    "        if ask == 'remove item':\n",
    "            remove_item = input ('What item would you like to remove')\n",
    "            if remove_item in my_cart:\n",
    "                my_cart.pop(remove_item)\n",
    "\n",
    "        #cannot get program to recognize next line of code and don't know why\n",
    "        if ask == 'show cart':\n",
    "            print(my_cart)\n",
    "\n",
    "        if ask == 'checkout':\n",
    "            for item, cost in my_cart.items():\n",
    "                print(f\"{item} is {cost} dollars\") \n",
    "                total_items += 1 \n",
    "                total_cost += int(cost) \n",
    "                \n",
    "            \n",
    "            print(total_items)\n",
    "            print(total_cost)\n",
    "        \n",
    "            \n",
    "             # Step 7\n",
    "    \n",
    "        \n",
    "    #return my_cart\n",
    "        \n",
    "# Step 8\n",
    "#my_shopping_book = shopping_cart()\n",
    "\n",
    "shopping_cart() "
   ]
  },
  {
   "cell_type": "code",
   "execution_count": null,
   "id": "cffc3aa8",
   "metadata": {},
   "outputs": [],
   "source": [
    "# Create a class called cart that retains items and has methods to add, remove, and show\n",
    "\n",
    "#class Cart():\n",
    "    #pass\n",
    "\n",
    "class Cart():\n",
    "    def __init__(self):\n",
    "        self.products = []\n",
    "        \n",
    "    def add_item(self, item):\n",
    "        self.products.append(item)\n",
    "\n",
    "class Item:\n",
    "    def __init__(self, title, price):\n",
    "        self.title = title\n",
    "        self.price = price\n",
    "        \n",
    "def main():\n",
    "    my_cart = Cart()\n",
    "    while True:\n",
    "        ask = input('Would you like to add/remove/show/quit ').lower()\n",
    "        if ask == 'quit':\n",
    "            break\n",
    "        elif ask == 'add':\n",
    "            title = input('What item would you like to add to your cart? ')\n",
    "            price = input('What is the price? ')\n",
    "            new_item = Item(title, price)\n",
    "            my_cart.add_item(new_item)\n",
    "    print(my_cart.products)\n",
    "    \n",
    "    for item in my_cart.products:\n",
    "        print(f\"{item.title} - {item.price}\")\n",
    "            \n",
    "            \n",
    "main()"
   ]
  },
  {
   "cell_type": "markdown",
   "id": "d16b717d",
   "metadata": {},
   "source": [
    "Exercise 2 - Write a Python class for an Animal that has a name and energy attributes. The animal class should also have methods for eat, sleep, and play that will take in an integer and increase/decrease the energy of the animal with a formatted print statement"
   ]
  },
  {
   "cell_type": "code",
   "execution_count": 15,
   "id": "75a9d7c2",
   "metadata": {},
   "outputs": [
    {
     "name": "stdout",
     "output_type": "stream",
     "text": [
      "10\n"
     ]
    }
   ],
   "source": [
    "# Example 1\n",
    "# buddy = Animal('Buddy', 10)\n",
    "# buddy.play(5) -> \"Buddy is playing for 5 minutes. His energy is now 5\"\n",
    "# buddy.sleep(10) -> \"Buddy is sleeping for 5 minutes. His energy is now 15\"\n",
    "\n",
    "class Animal:\n",
    "    def __init__(self, name, energy):\n",
    "        self.name = name\n",
    "        self.energy = 10\n",
    "        \n",
    "my_animal = Animal(\"Cane\", \"10\")\n",
    "print(my_animal.energy)\n",
    "\n",
    "def play(self):\n",
    "        self.energy -= 5\n",
    "print(f\"You take {self.name} for a walk\")"
   ]
  },
  {
   "cell_type": "code",
   "execution_count": null,
   "id": "40152e95",
   "metadata": {},
   "outputs": [],
   "source": []
  }
 ],
 "metadata": {
  "kernelspec": {
   "display_name": "Python 3 (ipykernel)",
   "language": "python",
   "name": "python3"
  },
  "language_info": {
   "codemirror_mode": {
    "name": "ipython",
    "version": 3
   },
   "file_extension": ".py",
   "mimetype": "text/x-python",
   "name": "python",
   "nbconvert_exporter": "python",
   "pygments_lexer": "ipython3",
   "version": "3.9.12"
  }
 },
 "nbformat": 4,
 "nbformat_minor": 5
}
